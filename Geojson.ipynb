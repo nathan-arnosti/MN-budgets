{
 "cells": [
  {
   "cell_type": "code",
   "execution_count": 1,
   "metadata": {},
   "outputs": [],
   "source": [
    "mn_map = \"C2012.geojson\""
   ]
  },
  {
   "cell_type": "code",
   "execution_count": 9,
   "metadata": {},
   "outputs": [],
   "source": [
    "import folium\n",
    "from folium import plugins\n",
    "import pandas as pd\n",
    "\n",
    "my_map = folium.Map(\n",
    "location=[46.7296, -94.6859],\n",
    "zoom_start=6)\n",
    "\n",
    "# adding a geojson layer\n",
    "\n",
    "my_map.save('my_map.html')\n",
    "\n",
    "# adding a geojson layer\n",
    "folium.GeoJson(\n",
    "    mn_map, # url of json\n",
    "    name='geojson' # naming layer\n",
    ").add_to(my_map)\n",
    "\n",
    "\n",
    "# adding layer controls to show/hide\n",
    "folium.LayerControl().add_to(my_map)\n",
    "\n",
    "my_map\n",
    "my_map.save('my_map.html')"
   ]
  },
  {
   "cell_type": "code",
   "execution_count": null,
   "metadata": {},
   "outputs": [],
   "source": []
  },
  {
   "cell_type": "code",
   "execution_count": null,
   "metadata": {},
   "outputs": [],
   "source": []
  }
 ],
 "metadata": {
  "kernelspec": {
   "display_name": "Python 3",
   "language": "python",
   "name": "python3"
  },
  "language_info": {
   "codemirror_mode": {
    "name": "ipython",
    "version": 3
   },
   "file_extension": ".py",
   "mimetype": "text/x-python",
   "name": "python",
   "nbconvert_exporter": "python",
   "pygments_lexer": "ipython3",
   "version": "3.8.3"
  }
 },
 "nbformat": 4,
 "nbformat_minor": 4
}
